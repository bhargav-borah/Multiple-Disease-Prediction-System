{
 "cells": [
  {
   "cell_type": "markdown",
   "id": "4381393d",
   "metadata": {},
   "source": [
    "# Heart Disease Prediction System - Neural Network"
   ]
  },
  {
   "cell_type": "markdown",
   "id": "7a3a3e20",
   "metadata": {},
   "source": [
    "An accuracy score of 85% doesn't seem good enough to me especially for a heart disease prediction system. So, I will build a neural network and hope it does justice to its reputation."
   ]
  },
  {
   "cell_type": "markdown",
   "id": "600d94b1",
   "metadata": {},
   "source": [
    "## Importing the dependencies"
   ]
  },
  {
   "cell_type": "code",
   "execution_count": 285,
   "id": "52563b4f",
   "metadata": {},
   "outputs": [],
   "source": [
    "import numpy as np\n",
    "import pandas as pd\n",
    "import tensorflow as tf\n",
    "from sklearn.model_selection import train_test_split\n",
    "from sklearn.preprocessing import MinMaxScaler\n",
    "from tensorflow.keras.models import Sequential\n",
    "from tensorflow.keras.layers import Dense\n",
    "from tensorflow.keras.regularizers import l2"
   ]
  },
  {
   "cell_type": "markdown",
   "id": "2811e44b",
   "metadata": {},
   "source": [
    "## Loading the data"
   ]
  },
  {
   "cell_type": "code",
   "execution_count": 286,
   "id": "11364862",
   "metadata": {},
   "outputs": [],
   "source": [
    "heart_disease_data = pd.read_csv('heart_disease_data.csv')"
   ]
  },
  {
   "cell_type": "code",
   "execution_count": 287,
   "id": "19e97bac",
   "metadata": {},
   "outputs": [
    {
     "data": {
      "text/plain": [
       "(303, 14)"
      ]
     },
     "execution_count": 287,
     "metadata": {},
     "output_type": "execute_result"
    }
   ],
   "source": [
    "heart_disease_data.shape"
   ]
  },
  {
   "cell_type": "code",
   "execution_count": 288,
   "id": "cab29371",
   "metadata": {},
   "outputs": [
    {
     "data": {
      "text/html": [
       "<div>\n",
       "<style scoped>\n",
       "    .dataframe tbody tr th:only-of-type {\n",
       "        vertical-align: middle;\n",
       "    }\n",
       "\n",
       "    .dataframe tbody tr th {\n",
       "        vertical-align: top;\n",
       "    }\n",
       "\n",
       "    .dataframe thead th {\n",
       "        text-align: right;\n",
       "    }\n",
       "</style>\n",
       "<table border=\"1\" class=\"dataframe\">\n",
       "  <thead>\n",
       "    <tr style=\"text-align: right;\">\n",
       "      <th></th>\n",
       "      <th>age</th>\n",
       "      <th>sex</th>\n",
       "      <th>cp</th>\n",
       "      <th>trestbps</th>\n",
       "      <th>chol</th>\n",
       "      <th>fbs</th>\n",
       "      <th>restecg</th>\n",
       "      <th>thalach</th>\n",
       "      <th>exang</th>\n",
       "      <th>oldpeak</th>\n",
       "      <th>slope</th>\n",
       "      <th>ca</th>\n",
       "      <th>thal</th>\n",
       "      <th>target</th>\n",
       "    </tr>\n",
       "  </thead>\n",
       "  <tbody>\n",
       "    <tr>\n",
       "      <th>279</th>\n",
       "      <td>61</td>\n",
       "      <td>1</td>\n",
       "      <td>0</td>\n",
       "      <td>138</td>\n",
       "      <td>166</td>\n",
       "      <td>0</td>\n",
       "      <td>0</td>\n",
       "      <td>125</td>\n",
       "      <td>1</td>\n",
       "      <td>3.6</td>\n",
       "      <td>1</td>\n",
       "      <td>1</td>\n",
       "      <td>2</td>\n",
       "      <td>0</td>\n",
       "    </tr>\n",
       "    <tr>\n",
       "      <th>151</th>\n",
       "      <td>71</td>\n",
       "      <td>0</td>\n",
       "      <td>0</td>\n",
       "      <td>112</td>\n",
       "      <td>149</td>\n",
       "      <td>0</td>\n",
       "      <td>1</td>\n",
       "      <td>125</td>\n",
       "      <td>0</td>\n",
       "      <td>1.6</td>\n",
       "      <td>1</td>\n",
       "      <td>0</td>\n",
       "      <td>2</td>\n",
       "      <td>1</td>\n",
       "    </tr>\n",
       "    <tr>\n",
       "      <th>265</th>\n",
       "      <td>66</td>\n",
       "      <td>1</td>\n",
       "      <td>0</td>\n",
       "      <td>112</td>\n",
       "      <td>212</td>\n",
       "      <td>0</td>\n",
       "      <td>0</td>\n",
       "      <td>132</td>\n",
       "      <td>1</td>\n",
       "      <td>0.1</td>\n",
       "      <td>2</td>\n",
       "      <td>1</td>\n",
       "      <td>2</td>\n",
       "      <td>0</td>\n",
       "    </tr>\n",
       "    <tr>\n",
       "      <th>62</th>\n",
       "      <td>52</td>\n",
       "      <td>1</td>\n",
       "      <td>3</td>\n",
       "      <td>118</td>\n",
       "      <td>186</td>\n",
       "      <td>0</td>\n",
       "      <td>0</td>\n",
       "      <td>190</td>\n",
       "      <td>0</td>\n",
       "      <td>0.0</td>\n",
       "      <td>1</td>\n",
       "      <td>0</td>\n",
       "      <td>1</td>\n",
       "      <td>1</td>\n",
       "    </tr>\n",
       "    <tr>\n",
       "      <th>281</th>\n",
       "      <td>52</td>\n",
       "      <td>1</td>\n",
       "      <td>0</td>\n",
       "      <td>128</td>\n",
       "      <td>204</td>\n",
       "      <td>1</td>\n",
       "      <td>1</td>\n",
       "      <td>156</td>\n",
       "      <td>1</td>\n",
       "      <td>1.0</td>\n",
       "      <td>1</td>\n",
       "      <td>0</td>\n",
       "      <td>0</td>\n",
       "      <td>0</td>\n",
       "    </tr>\n",
       "  </tbody>\n",
       "</table>\n",
       "</div>"
      ],
      "text/plain": [
       "     age  sex  cp  trestbps  chol  fbs  restecg  thalach  exang  oldpeak  \\\n",
       "279   61    1   0       138   166    0        0      125      1      3.6   \n",
       "151   71    0   0       112   149    0        1      125      0      1.6   \n",
       "265   66    1   0       112   212    0        0      132      1      0.1   \n",
       "62    52    1   3       118   186    0        0      190      0      0.0   \n",
       "281   52    1   0       128   204    1        1      156      1      1.0   \n",
       "\n",
       "     slope  ca  thal  target  \n",
       "279      1   1     2       0  \n",
       "151      1   0     2       1  \n",
       "265      2   1     2       0  \n",
       "62       1   0     1       1  \n",
       "281      1   0     0       0  "
      ]
     },
     "execution_count": 288,
     "metadata": {},
     "output_type": "execute_result"
    }
   ],
   "source": [
    "heart_disease_data.sample(5)"
   ]
  },
  {
   "cell_type": "code",
   "execution_count": 289,
   "id": "5a2a35ac",
   "metadata": {},
   "outputs": [
    {
     "name": "stdout",
     "output_type": "stream",
     "text": [
      "<class 'pandas.core.frame.DataFrame'>\n",
      "RangeIndex: 303 entries, 0 to 302\n",
      "Data columns (total 14 columns):\n",
      " #   Column    Non-Null Count  Dtype  \n",
      "---  ------    --------------  -----  \n",
      " 0   age       303 non-null    int64  \n",
      " 1   sex       303 non-null    int64  \n",
      " 2   cp        303 non-null    int64  \n",
      " 3   trestbps  303 non-null    int64  \n",
      " 4   chol      303 non-null    int64  \n",
      " 5   fbs       303 non-null    int64  \n",
      " 6   restecg   303 non-null    int64  \n",
      " 7   thalach   303 non-null    int64  \n",
      " 8   exang     303 non-null    int64  \n",
      " 9   oldpeak   303 non-null    float64\n",
      " 10  slope     303 non-null    int64  \n",
      " 11  ca        303 non-null    int64  \n",
      " 12  thal      303 non-null    int64  \n",
      " 13  target    303 non-null    int64  \n",
      "dtypes: float64(1), int64(13)\n",
      "memory usage: 33.3 KB\n"
     ]
    }
   ],
   "source": [
    "heart_disease_data.info()"
   ]
  },
  {
   "cell_type": "markdown",
   "id": "7e656b39",
   "metadata": {},
   "source": [
    "## Splitting the features and the labels"
   ]
  },
  {
   "cell_type": "code",
   "execution_count": 290,
   "id": "96c9ed24",
   "metadata": {},
   "outputs": [],
   "source": [
    "X = heart_disease_data.drop(columns=['target'])\n",
    "y = heart_disease_data['target']"
   ]
  },
  {
   "cell_type": "markdown",
   "id": "595da9d3",
   "metadata": {},
   "source": [
    "## Splitting the data into training set and test set"
   ]
  },
  {
   "cell_type": "code",
   "execution_count": 291,
   "id": "e9edb700",
   "metadata": {},
   "outputs": [],
   "source": [
    "X_train, X_test, y_train, y_test = train_test_split(X, y, test_size=0.2, random_state=2, stratify=y)"
   ]
  },
  {
   "cell_type": "markdown",
   "id": "3623b009",
   "metadata": {},
   "source": [
    "## Feature scaling the training set and the test set"
   ]
  },
  {
   "cell_type": "code",
   "execution_count": 292,
   "id": "e9168664",
   "metadata": {},
   "outputs": [],
   "source": [
    "scaler = MinMaxScaler()\n",
    "X_train = scaler.fit_transform(X_train)\n",
    "X_test = scaler.transform(X_test)"
   ]
  },
  {
   "cell_type": "code",
   "execution_count": 293,
   "id": "a5980610",
   "metadata": {},
   "outputs": [
    {
     "data": {
      "text/plain": [
       "array([[0.46511628, 1.        , 0.33333333, ..., 1.        , 0.        ,\n",
       "        1.        ],\n",
       "       [1.        , 1.        , 0.        , ..., 1.        , 0.75      ,\n",
       "        0.5       ],\n",
       "       [0.51162791, 1.        , 0.33333333, ..., 0.        , 0.        ,\n",
       "        0.5       ],\n",
       "       ...,\n",
       "       [0.79069767, 1.        , 0.        , ..., 0.5       , 0.5       ,\n",
       "        1.        ],\n",
       "       [0.60465116, 1.        , 0.66666667, ..., 0.5       , 0.        ,\n",
       "        0.5       ],\n",
       "       [0.34883721, 0.        , 0.33333333, ..., 0.5       , 0.        ,\n",
       "        0.5       ]])"
      ]
     },
     "execution_count": 293,
     "metadata": {},
     "output_type": "execute_result"
    }
   ],
   "source": [
    "X_train"
   ]
  },
  {
   "cell_type": "code",
   "execution_count": 294,
   "id": "ba2e98a6",
   "metadata": {},
   "outputs": [
    {
     "data": {
      "text/plain": [
       "array([[ 0.25581395,  1.        ,  0.        ,  0.48979592,  0.41108545,\n",
       "         0.        ,  0.        ,  0.55140187,  1.        ,  0.        ,\n",
       "         0.5       ,  0.75      ,  1.        ],\n",
       "       [-0.11627907,  1.        ,  0.33333333,  0.36734694,  0.16859122,\n",
       "         0.        ,  0.        ,  1.06542056,  0.        ,  0.        ,\n",
       "         1.        ,  0.        ,  0.5       ],\n",
       "       [ 0.41860465,  1.        ,  1.        ,  0.59183673,  0.38568129,\n",
       "         1.        ,  0.5       ,  0.8411215 ,  0.        ,  0.21428571,\n",
       "         0.5       ,  0.        ,  1.        ],\n",
       "       [ 0.46511628,  1.        ,  0.        ,  0.28571429,  0.35796767,\n",
       "         0.        ,  0.        ,  0.26168224,  1.        ,  0.57142857,\n",
       "         0.5       ,  0.5       ,  0.5       ],\n",
       "       [ 0.41860465,  1.        ,  0.66666667,  0.44897959,  0.21247113,\n",
       "         0.        ,  0.5       ,  0.75700935,  0.        ,  0.        ,\n",
       "         1.        ,  1.        ,  0.5       ],\n",
       "       [ 0.79069767,  0.        ,  0.66666667,  0.26530612,  0.18475751,\n",
       "         0.        ,  0.        ,  0.25233645,  0.        ,  0.26785714,\n",
       "         0.5       ,  0.        ,  0.5       ],\n",
       "       [ 0.48837209,  1.        ,  0.        ,  0.3877551 ,  0.51270208,\n",
       "         0.        ,  0.5       ,  0.41121495,  1.        ,  0.21428571,\n",
       "         0.5       ,  0.25      ,  1.        ],\n",
       "       [ 0.60465116,  1.        ,  0.        ,  0.46938776,  0.37413395,\n",
       "         0.        ,  0.        ,  0.76635514,  0.        ,  0.21428571,\n",
       "         0.5       ,  0.5       ,  1.        ],\n",
       "       [ 0.25581395,  0.        ,  0.        ,  0.44897959,  0.24249423,\n",
       "         0.        ,  0.        ,  0.59813084,  1.        ,  0.03571429,\n",
       "         0.5       ,  0.        ,  0.5       ],\n",
       "       [ 0.74418605,  1.        ,  0.        ,  0.26530612,  0.39491917,\n",
       "         0.        ,  0.        ,  0.58878505,  0.        ,  0.07142857,\n",
       "         0.5       ,  0.        ,  0.5       ],\n",
       "       [ 0.41860465,  1.        ,  0.33333333,  0.26530612,  0.44803695,\n",
       "         0.        ,  0.5       ,  0.78504673,  0.        ,  0.03571429,\n",
       "         1.        ,  0.        ,  0.5       ],\n",
       "       [ 0.34883721,  1.        ,  0.66666667,  0.26530612,  0.13163972,\n",
       "         0.        ,  0.5       ,  0.47663551,  0.        ,  0.35714286,\n",
       "         0.5       ,  0.75      ,  1.        ],\n",
       "       [ 0.65116279,  0.        ,  0.        ,  0.67346939,  0.07621247,\n",
       "         0.        ,  0.        ,  0.53271028,  0.        ,  1.10714286,\n",
       "         0.        ,  0.75      ,  1.        ],\n",
       "       [ 0.34883721,  1.        ,  0.66666667,  0.24489796,  0.04157044,\n",
       "         0.        ,  0.        ,  0.35514019,  0.        ,  0.14285714,\n",
       "         1.        ,  0.75      ,  0.5       ],\n",
       "       [ 0.46511628,  0.        ,  0.66666667,  0.41836735,  0.39953811,\n",
       "         1.        ,  0.5       ,  0.76635514,  0.        ,  0.        ,\n",
       "         1.        ,  0.        ,  0.5       ],\n",
       "       [ 0.39534884,  0.        ,  0.66666667,  0.46938776,  0.40877598,\n",
       "         0.        ,  0.        ,  0.5046729 ,  0.        ,  0.26785714,\n",
       "         1.        ,  0.25      ,  0.5       ],\n",
       "       [ 0.69767442,  1.        ,  0.        ,  0.34693878,  0.30484988,\n",
       "         0.        ,  0.5       ,  0.1588785 ,  1.        ,  0.03571429,\n",
       "         0.5       ,  0.25      ,  1.        ],\n",
       "       [ 0.55813953,  1.        ,  0.33333333,  0.26530612,  0.35334873,\n",
       "         0.        ,  0.        ,  0.6728972 ,  0.        ,  0.32142857,\n",
       "         0.5       ,  0.        ,  0.5       ],\n",
       "       [ 0.11627907,  1.        ,  0.        ,  0.24489796,  0.20323326,\n",
       "         0.        ,  0.5       ,  0.48598131,  0.        ,  0.21428571,\n",
       "         0.5       ,  0.        ,  1.        ],\n",
       "       [ 0.1627907 ,  1.        ,  0.66666667,  0.18367347,  0.27482679,\n",
       "         0.        ,  0.5       ,  0.85046729,  0.        ,  0.        ,\n",
       "         1.        ,  0.        ,  0.5       ],\n",
       "       [ 0.58139535,  1.        ,  1.        ,  0.7755102 ,  0.36258661,\n",
       "         0.        ,  0.        ,  0.6635514 ,  0.        ,  0.03571429,\n",
       "         0.5       ,  0.        ,  1.        ],\n",
       "       [ 0.39534884,  1.        ,  1.        ,  0.31632653,  0.18937644,\n",
       "         0.        ,  0.        ,  0.34579439,  1.        ,  0.25      ,\n",
       "         1.        ,  0.25      ,  0.5       ],\n",
       "       [ 0.44186047,  0.        ,  0.66666667,  0.34693878,  0.19630485,\n",
       "         0.        ,  0.        ,  0.25233645,  0.        ,  0.        ,\n",
       "         1.        ,  0.        , -0.5       ],\n",
       "       [ 0.27906977,  1.        ,  0.66666667,  0.57142857,  0.23094688,\n",
       "         0.        ,  0.5       ,  0.55140187,  0.        ,  0.64285714,\n",
       "         0.5       ,  0.        ,  0.5       ],\n",
       "       [ 0.53488372,  0.        ,  0.        ,  0.46938776,  0.25404157,\n",
       "         0.        ,  0.5       ,  0.3271028 ,  1.        ,  0.03571429,\n",
       "         0.5       ,  0.        ,  1.        ],\n",
       "       [ 0.74418605,  0.        ,  0.        ,  0.85714286,  0.22401848,\n",
       "         1.        ,  0.5       ,  0.71962617,  1.        ,  0.17857143,\n",
       "         0.5       ,  0.5       ,  1.        ],\n",
       "       [ 0.8372093 ,  1.        ,  0.66666667,  0.67346939,  0.3187067 ,\n",
       "         0.        ,  0.5       ,  0.22429907,  1.        ,  0.51785714,\n",
       "         0.5       ,  0.25      ,  1.        ],\n",
       "       [ 0.48837209,  1.        ,  0.        ,  0.67346939,  0.36489607,\n",
       "         0.        ,  0.        ,  0.53271028,  1.        ,  0.14285714,\n",
       "         0.5       ,  0.25      ,  1.        ],\n",
       "       [ 0.34883721,  0.        ,  0.        ,  0.36734694,  0.3187067 ,\n",
       "         0.        ,  0.5       ,  0.70093458,  0.        ,  0.        ,\n",
       "         1.        ,  0.        ,  0.5       ],\n",
       "       [ 0.44186047,  1.        ,  0.        ,  0.48979592,  0.21939954,\n",
       "         0.        ,  0.        ,  0.21495327,  1.        ,  0.        ,\n",
       "         1.        ,  0.        ,  1.        ],\n",
       "       [ 0.8372093 ,  1.        ,  0.33333333,  0.63265306,  0.26327945,\n",
       "         0.        ,  0.        ,  0.51401869,  0.        ,  0.        ,\n",
       "         1.        ,  0.        ,  0.5       ],\n",
       "       [ 0.53488372,  1.        ,  0.66666667,  0.57142857,  0.08545035,\n",
       "         0.        ,  0.5       ,  0.80373832,  0.        ,  0.28571429,\n",
       "         1.        ,  0.        ,  0.5       ],\n",
       "       [ 0.79069767,  1.        ,  0.66666667,  0.24489796,  0.33718245,\n",
       "         0.        ,  0.5       ,  0.58878505,  0.        ,  0.17857143,\n",
       "         1.        ,  0.25      ,  1.        ],\n",
       "       [ 0.76744186,  1.        ,  0.        ,  0.26530612,  0.2448037 ,\n",
       "         0.        ,  0.5       , -0.1588785 ,  0.        ,  0.17857143,\n",
       "         0.5       ,  0.        ,  0.5       ],\n",
       "       [ 0.51162791,  1.        ,  0.        ,  0.36734694,  0.35103926,\n",
       "         1.        ,  0.        ,  0.14018692,  1.        ,  0.28571429,\n",
       "         0.        ,  0.        ,  1.        ],\n",
       "       [ 0.65116279,  1.        ,  0.        ,  0.26530612,  0.31408776,\n",
       "         0.        ,  0.5       ,  0.10280374,  1.        ,  0.32142857,\n",
       "         0.5       ,  0.5       ,  1.        ],\n",
       "       [ 0.3255814 ,  1.        ,  0.66666667,  0.30612245,  0.28637413,\n",
       "         1.        ,  0.5       ,  0.81308411,  0.        ,  0.        ,\n",
       "         1.        ,  0.5       ,  0.5       ],\n",
       "       [ 0.44186047,  1.        ,  0.        ,  0.46938776,  0.16628176,\n",
       "         1.        ,  0.        ,  0.62616822,  1.        ,  0.55357143,\n",
       "         0.        ,  0.        ,  1.        ],\n",
       "       [ 0.41860465,  1.        ,  0.        ,  0.14285714,  0.23556582,\n",
       "         1.        ,  0.5       ,  0.55140187,  0.        ,  0.01785714,\n",
       "         1.        ,  0.75      ,  1.        ],\n",
       "       [ 0.06976744,  1.        ,  0.66666667,  0.36734694,  0.27482679,\n",
       "         0.        ,  0.5       ,  0.92523364,  0.        ,  0.625     ,\n",
       "         0.        ,  0.        ,  0.5       ],\n",
       "       [ 0.23255814,  1.        ,  0.        ,  0.18367347,  0.36720554,\n",
       "         0.        ,  0.        ,  0.60747664,  0.        ,  0.        ,\n",
       "         1.        ,  0.25      ,  0.5       ],\n",
       "       [ 0.41860465,  1.        ,  0.        ,  0.34693878,  0.16859122,\n",
       "         1.        ,  0.5       ,  0.63551402,  1.        ,  0.17857143,\n",
       "         0.5       ,  0.        , -0.5       ],\n",
       "       [ 0.53488372,  1.        ,  0.66666667,  0.57142857, -0.01154734,\n",
       "         1.        ,  0.5       ,  0.79439252,  0.        ,  0.03571429,\n",
       "         1.        ,  0.25      ,  1.        ],\n",
       "       [ 0.1627907 ,  1.        ,  0.33333333,  0.41836735,  0.16628176,\n",
       "         0.        ,  0.5       ,  0.41121495,  0.        ,  0.        ,\n",
       "         0.5       ,  0.        ,  0.        ],\n",
       "       [ 0.62790698,  1.        ,  1.        ,  0.40816327,  0.23787529,\n",
       "         0.        ,  0.5       ,  0.53271028,  0.        ,  0.46428571,\n",
       "         0.5       ,  0.5       ,  0.5       ],\n",
       "       [ 0.46511628,  1.        ,  0.66666667,  0.57142857,  0.23325635,\n",
       "         0.        ,  0.        ,  0.71962617,  0.        ,  0.28571429,\n",
       "         1.        ,  0.        ,  1.        ],\n",
       "       [ 0.18604651,  1.        ,  0.        ,  0.46938776,  0.21939954,\n",
       "         0.        ,  0.5       ,  0.8411215 ,  0.        ,  0.        ,\n",
       "         1.        ,  0.        ,  0.5       ],\n",
       "       [ 0.60465116,  0.        ,  0.        ,  0.57142857,  0.29330254,\n",
       "         0.        ,  0.        ,  0.64485981,  0.        ,  0.46428571,\n",
       "         0.5       ,  0.5       ,  1.        ],\n",
       "       [ 0.46511628,  0.        ,  0.66666667,  0.16326531,  0.19168591,\n",
       "         0.        ,  0.5       ,  0.65420561,  0.        ,  0.28571429,\n",
       "         0.5       ,  0.        ,  0.5       ],\n",
       "       [ 0.79069767,  1.        ,  0.66666667,  0.87755102,  0.33025404,\n",
       "         1.        ,  0.        ,  0.57943925,  1.        ,  0.28571429,\n",
       "         0.5       ,  0.        ,  1.        ],\n",
       "       [ 0.51162791,  0.        ,  0.        ,  1.08163265,  0.36258661,\n",
       "         1.        ,  0.        ,  0.42056075,  1.        ,  0.71428571,\n",
       "         0.        ,  0.5       ,  1.        ],\n",
       "       [ 0.76744186,  0.        ,  0.        ,  0.12244898,  0.21247113,\n",
       "         0.        ,  0.5       ,  0.5046729 ,  0.        ,  0.05357143,\n",
       "         1.        ,  0.5       ,  0.5       ],\n",
       "       [ 0.55813953,  1.        ,  0.        ,  0.57142857,  0.32101617,\n",
       "         0.        ,  0.        ,  0.21495327,  1.        ,  0.14285714,\n",
       "         1.        ,  0.        ,  1.        ],\n",
       "       [ 0.25581395,  1.        ,  0.        ,  0.21428571,  0.29792148,\n",
       "         0.        ,  0.        ,  0.90654206,  0.        ,  0.        ,\n",
       "         1.        ,  0.        ,  0.5       ],\n",
       "       [ 0.53488372,  0.        ,  0.        ,  0.34693878,  0.39722864,\n",
       "         0.        ,  0.        ,  0.6635514 ,  0.        ,  0.        ,\n",
       "         1.        ,  0.25      ,  0.5       ],\n",
       "       [ 0.65116279,  0.        ,  0.66666667,  0.36734694,  0.30484988,\n",
       "         0.        ,  0.5       ,  0.08411215,  0.        ,  0.21428571,\n",
       "         0.5       ,  0.25      ,  1.        ],\n",
       "       [ 0.25581395,  1.        ,  0.        ,  0.10204082,  0.1778291 ,\n",
       "         0.        ,  0.        ,  0.56074766,  1.        ,  0.53571429,\n",
       "         0.5       ,  0.        ,  0.5       ],\n",
       "       [ 0.46511628,  1.        ,  0.        ,  0.30612245,  0.31177829,\n",
       "         0.        ,  0.        ,  0.19626168,  1.        ,  0.39285714,\n",
       "         0.5       ,  0.25      ,  1.        ],\n",
       "       [ 0.41860465,  1.        ,  0.66666667,  0.79591837,  0.15704388,\n",
       "         1.        ,  0.5       ,  0.69158879,  0.        ,  0.08928571,\n",
       "         1.        ,  0.        ,  1.        ],\n",
       "       [ 0.1627907 ,  0.        ,  0.66666667,  0.18367347,  0.31639723,\n",
       "         0.        ,  0.        ,  0.78504673,  1.        ,  0.        ,\n",
       "         1.        ,  0.        ,  0.5       ],\n",
       "       [ 0.81395349,  0.        ,  1.        ,  0.46938776,  0.24942263,\n",
       "         0.        ,  0.5       ,  0.58878505,  0.        ,  0.32142857,\n",
       "         1.        ,  0.5       ,  0.5       ]])"
      ]
     },
     "execution_count": 294,
     "metadata": {},
     "output_type": "execute_result"
    }
   ],
   "source": [
    "X_test"
   ]
  },
  {
   "cell_type": "markdown",
   "id": "55297c5e",
   "metadata": {},
   "source": [
    "## Building the neural network"
   ]
  },
  {
   "cell_type": "code",
   "execution_count": 295,
   "id": "a8582b22",
   "metadata": {},
   "outputs": [],
   "source": [
    "model = Sequential()\n",
    "model.add(Dense(128, activation='relu', input_dim=13, kernel_regularizer=l2(0.01)))\n",
    "model.add(Dense(64, activation='relu', kernel_regularizer=l2(0.01)))\n",
    "model.add(Dense(64, activation='relu', kernel_regularizer=l2(0.01)))\n",
    "model.add(Dense(1, activation='sigmoid'))\n",
    "\n",
    "model.compile(optimizer=tf.keras.optimizers.Adam(learning_rate=0.007), loss='binary_crossentropy', metrics=['accuracy'])"
   ]
  },
  {
   "cell_type": "code",
   "execution_count": 296,
   "id": "4f9b697d",
   "metadata": {},
   "outputs": [
    {
     "name": "stdout",
     "output_type": "stream",
     "text": [
      "Model: \"sequential_20\"\n",
      "_________________________________________________________________\n",
      " Layer (type)                Output Shape              Param #   \n",
      "=================================================================\n",
      " dense_68 (Dense)            (None, 128)               1792      \n",
      "                                                                 \n",
      " dense_69 (Dense)            (None, 64)                8256      \n",
      "                                                                 \n",
      " dense_70 (Dense)            (None, 64)                4160      \n",
      "                                                                 \n",
      " dense_71 (Dense)            (None, 1)                 65        \n",
      "                                                                 \n",
      "=================================================================\n",
      "Total params: 14,273\n",
      "Trainable params: 14,273\n",
      "Non-trainable params: 0\n",
      "_________________________________________________________________\n"
     ]
    }
   ],
   "source": [
    "model.summary()"
   ]
  },
  {
   "cell_type": "markdown",
   "id": "d58b51f0",
   "metadata": {},
   "source": [
    "## Training the neural network"
   ]
  },
  {
   "cell_type": "code",
   "execution_count": 297,
   "id": "f2fbb1a7",
   "metadata": {},
   "outputs": [
    {
     "name": "stdout",
     "output_type": "stream",
     "text": [
      "Epoch 1/50\n",
      "8/8 [==============================] - 1s 5ms/step - loss: 1.9004 - accuracy: 0.6942\n",
      "Epoch 2/50\n",
      "8/8 [==============================] - 0s 5ms/step - loss: 1.0244 - accuracy: 0.8140\n",
      "Epoch 3/50\n",
      "8/8 [==============================] - 0s 5ms/step - loss: 0.7414 - accuracy: 0.7686\n",
      "Epoch 4/50\n",
      "8/8 [==============================] - 0s 5ms/step - loss: 0.5762 - accuracy: 0.8430\n",
      "Epoch 5/50\n",
      "8/8 [==============================] - 0s 5ms/step - loss: 0.5305 - accuracy: 0.8471\n",
      "Epoch 6/50\n",
      "8/8 [==============================] - 0s 5ms/step - loss: 0.5013 - accuracy: 0.8430\n",
      "Epoch 7/50\n",
      "8/8 [==============================] - 0s 5ms/step - loss: 0.4777 - accuracy: 0.8554\n",
      "Epoch 8/50\n",
      "8/8 [==============================] - 0s 4ms/step - loss: 0.4736 - accuracy: 0.8347\n",
      "Epoch 9/50\n",
      "8/8 [==============================] - 0s 5ms/step - loss: 0.4512 - accuracy: 0.8554\n",
      "Epoch 10/50\n",
      "8/8 [==============================] - 0s 5ms/step - loss: 0.4390 - accuracy: 0.8471\n",
      "Epoch 11/50\n",
      "8/8 [==============================] - 0s 3ms/step - loss: 0.4355 - accuracy: 0.8595\n",
      "Epoch 12/50\n",
      "8/8 [==============================] - 0s 4ms/step - loss: 0.4355 - accuracy: 0.8512\n",
      "Epoch 13/50\n",
      "8/8 [==============================] - 0s 3ms/step - loss: 0.4268 - accuracy: 0.8471\n",
      "Epoch 14/50\n",
      "8/8 [==============================] - 0s 5ms/step - loss: 0.4324 - accuracy: 0.8430\n",
      "Epoch 15/50\n",
      "8/8 [==============================] - 0s 5ms/step - loss: 0.4356 - accuracy: 0.8512\n",
      "Epoch 16/50\n",
      "8/8 [==============================] - 0s 5ms/step - loss: 0.4338 - accuracy: 0.8430\n",
      "Epoch 17/50\n",
      "8/8 [==============================] - 0s 5ms/step - loss: 0.4729 - accuracy: 0.8388\n",
      "Epoch 18/50\n",
      "8/8 [==============================] - 0s 4ms/step - loss: 0.4481 - accuracy: 0.8512\n",
      "Epoch 19/50\n",
      "8/8 [==============================] - 0s 5ms/step - loss: 0.4583 - accuracy: 0.8388\n",
      "Epoch 20/50\n",
      "8/8 [==============================] - 0s 5ms/step - loss: 0.4387 - accuracy: 0.8512\n",
      "Epoch 21/50\n",
      "8/8 [==============================] - 0s 5ms/step - loss: 0.4149 - accuracy: 0.8554\n",
      "Epoch 22/50\n",
      "8/8 [==============================] - 0s 6ms/step - loss: 0.4074 - accuracy: 0.8512\n",
      "Epoch 23/50\n",
      "8/8 [==============================] - 0s 5ms/step - loss: 0.4115 - accuracy: 0.8554\n",
      "Epoch 24/50\n",
      "8/8 [==============================] - 0s 5ms/step - loss: 0.4536 - accuracy: 0.8512\n",
      "Epoch 25/50\n",
      "8/8 [==============================] - 0s 5ms/step - loss: 0.4264 - accuracy: 0.8264\n",
      "Epoch 26/50\n",
      "8/8 [==============================] - 0s 5ms/step - loss: 0.4169 - accuracy: 0.8471\n",
      "Epoch 27/50\n",
      "8/8 [==============================] - 0s 5ms/step - loss: 0.4014 - accuracy: 0.8512\n",
      "Epoch 28/50\n",
      "8/8 [==============================] - 0s 10ms/step - loss: 0.4479 - accuracy: 0.8264\n",
      "Epoch 29/50\n",
      "8/8 [==============================] - 0s 5ms/step - loss: 0.4009 - accuracy: 0.8636\n",
      "Epoch 30/50\n",
      "8/8 [==============================] - 0s 5ms/step - loss: 0.3930 - accuracy: 0.8512\n",
      "Epoch 31/50\n",
      "8/8 [==============================] - 0s 5ms/step - loss: 0.3860 - accuracy: 0.8554\n",
      "Epoch 32/50\n",
      "8/8 [==============================] - 0s 5ms/step - loss: 0.3915 - accuracy: 0.8595\n",
      "Epoch 33/50\n",
      "8/8 [==============================] - 0s 5ms/step - loss: 0.3948 - accuracy: 0.8554\n",
      "Epoch 34/50\n",
      "8/8 [==============================] - 0s 5ms/step - loss: 0.3968 - accuracy: 0.8595\n",
      "Epoch 35/50\n",
      "8/8 [==============================] - 0s 5ms/step - loss: 0.4148 - accuracy: 0.8554\n",
      "Epoch 36/50\n",
      "8/8 [==============================] - 0s 4ms/step - loss: 0.4389 - accuracy: 0.8554\n",
      "Epoch 37/50\n",
      "8/8 [==============================] - 0s 5ms/step - loss: 0.3931 - accuracy: 0.8388\n",
      "Epoch 38/50\n",
      "8/8 [==============================] - 0s 4ms/step - loss: 0.3889 - accuracy: 0.8843\n",
      "Epoch 39/50\n",
      "8/8 [==============================] - 0s 5ms/step - loss: 0.4056 - accuracy: 0.8595\n",
      "Epoch 40/50\n",
      "8/8 [==============================] - 0s 4ms/step - loss: 0.3776 - accuracy: 0.8636\n",
      "Epoch 41/50\n",
      "8/8 [==============================] - 0s 5ms/step - loss: 0.3817 - accuracy: 0.8678\n",
      "Epoch 42/50\n",
      "8/8 [==============================] - 0s 5ms/step - loss: 0.4051 - accuracy: 0.8430\n",
      "Epoch 43/50\n",
      "8/8 [==============================] - 0s 5ms/step - loss: 0.4030 - accuracy: 0.8554\n",
      "Epoch 44/50\n",
      "8/8 [==============================] - 0s 5ms/step - loss: 0.4027 - accuracy: 0.8678\n",
      "Epoch 45/50\n",
      "8/8 [==============================] - 0s 5ms/step - loss: 0.3844 - accuracy: 0.8554\n",
      "Epoch 46/50\n",
      "8/8 [==============================] - 0s 4ms/step - loss: 0.3767 - accuracy: 0.8512\n",
      "Epoch 47/50\n",
      "8/8 [==============================] - 0s 5ms/step - loss: 0.3657 - accuracy: 0.8678\n",
      "Epoch 48/50\n",
      "8/8 [==============================] - 0s 5ms/step - loss: 0.3644 - accuracy: 0.8678\n",
      "Epoch 49/50\n",
      "8/8 [==============================] - 0s 5ms/step - loss: 0.3662 - accuracy: 0.8636\n",
      "Epoch 50/50\n",
      "8/8 [==============================] - 0s 3ms/step - loss: 0.3577 - accuracy: 0.8802\n"
     ]
    },
    {
     "data": {
      "text/plain": [
       "<keras.callbacks.History at 0x23221eefa90>"
      ]
     },
     "execution_count": 297,
     "metadata": {},
     "output_type": "execute_result"
    }
   ],
   "source": [
    "model.fit(X_train, y_train, epochs=50, batch_size=32)"
   ]
  },
  {
   "cell_type": "code",
   "execution_count": 298,
   "id": "a51a7a9c",
   "metadata": {},
   "outputs": [
    {
     "name": "stdout",
     "output_type": "stream",
     "text": [
      "2/2 [==============================] - 0s 8ms/step - loss: 0.5384 - accuracy: 0.8033\n"
     ]
    }
   ],
   "source": [
    "loss, accuracy = model.evaluate(X_test, y_test)"
   ]
  },
  {
   "cell_type": "code",
   "execution_count": 299,
   "id": "ec66dc78",
   "metadata": {},
   "outputs": [
    {
     "name": "stdout",
     "output_type": "stream",
     "text": [
      "0.5384119749069214\n",
      "0.8032786846160889\n"
     ]
    }
   ],
   "source": [
    "print(loss)\n",
    "print(accuracy)"
   ]
  },
  {
   "cell_type": "markdown",
   "id": "cc72ff83",
   "metadata": {},
   "source": [
    "Nah, neural networks couldn't perform better :(. Will come back to this and hopefully get a 90% + accuracy."
   ]
  },
  {
   "cell_type": "code",
   "execution_count": null,
   "id": "3d0b32e7",
   "metadata": {},
   "outputs": [],
   "source": []
  }
 ],
 "metadata": {
  "kernelspec": {
   "display_name": "Python 3 (ipykernel)",
   "language": "python",
   "name": "python3"
  },
  "language_info": {
   "codemirror_mode": {
    "name": "ipython",
    "version": 3
   },
   "file_extension": ".py",
   "mimetype": "text/x-python",
   "name": "python",
   "nbconvert_exporter": "python",
   "pygments_lexer": "ipython3",
   "version": "3.9.13"
  }
 },
 "nbformat": 4,
 "nbformat_minor": 5
}
