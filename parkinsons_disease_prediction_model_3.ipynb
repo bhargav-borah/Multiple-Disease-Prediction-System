{
 "cells": [
  {
   "cell_type": "markdown",
   "id": "9697bb0c",
   "metadata": {},
   "source": [
    "# Parkinson's Disease Prediction - Model 3 - Neutral Network"
   ]
  },
  {
   "cell_type": "markdown",
   "id": "bd5fca04",
   "metadata": {},
   "source": [
    "## Importing the dpeendencies"
   ]
  },
  {
   "cell_type": "code",
   "execution_count": 21,
   "id": "ed1c1d8c",
   "metadata": {},
   "outputs": [],
   "source": [
    "import numpy as np\n",
    "import pandas as pd\n",
    "import matplotlib.pyplot as plt\n",
    "import seaborn as sns\n",
    "from sklearn.model_selection import train_test_split\n",
    "from tensorflow.keras.models import Sequential\n",
    "from tensorflow.keras.layers import Dense\n",
    "from sklearn.preprocessing import MinMaxScaler"
   ]
  },
  {
   "cell_type": "markdown",
   "id": "44b7bded",
   "metadata": {},
   "source": [
    "## Loading the data"
   ]
  },
  {
   "cell_type": "code",
   "execution_count": 2,
   "id": "d72852a6",
   "metadata": {},
   "outputs": [],
   "source": [
    "parkinsons_data = pd.read_csv('parkinsons.csv')"
   ]
  },
  {
   "cell_type": "code",
   "execution_count": 3,
   "id": "2c696f90",
   "metadata": {},
   "outputs": [
    {
     "data": {
      "text/plain": [
       "(195, 24)"
      ]
     },
     "execution_count": 3,
     "metadata": {},
     "output_type": "execute_result"
    }
   ],
   "source": [
    "parkinsons_data.shape"
   ]
  },
  {
   "cell_type": "code",
   "execution_count": 5,
   "id": "a6443675",
   "metadata": {},
   "outputs": [
    {
     "data": {
      "text/html": [
       "<div>\n",
       "<style scoped>\n",
       "    .dataframe tbody tr th:only-of-type {\n",
       "        vertical-align: middle;\n",
       "    }\n",
       "\n",
       "    .dataframe tbody tr th {\n",
       "        vertical-align: top;\n",
       "    }\n",
       "\n",
       "    .dataframe thead th {\n",
       "        text-align: right;\n",
       "    }\n",
       "</style>\n",
       "<table border=\"1\" class=\"dataframe\">\n",
       "  <thead>\n",
       "    <tr style=\"text-align: right;\">\n",
       "      <th></th>\n",
       "      <th>name</th>\n",
       "      <th>MDVP:Fo(Hz)</th>\n",
       "      <th>MDVP:Fhi(Hz)</th>\n",
       "      <th>MDVP:Flo(Hz)</th>\n",
       "      <th>MDVP:Jitter(%)</th>\n",
       "      <th>MDVP:Jitter(Abs)</th>\n",
       "      <th>MDVP:RAP</th>\n",
       "      <th>MDVP:PPQ</th>\n",
       "      <th>Jitter:DDP</th>\n",
       "      <th>MDVP:Shimmer</th>\n",
       "      <th>...</th>\n",
       "      <th>Shimmer:DDA</th>\n",
       "      <th>NHR</th>\n",
       "      <th>HNR</th>\n",
       "      <th>status</th>\n",
       "      <th>RPDE</th>\n",
       "      <th>DFA</th>\n",
       "      <th>spread1</th>\n",
       "      <th>spread2</th>\n",
       "      <th>D2</th>\n",
       "      <th>PPE</th>\n",
       "    </tr>\n",
       "  </thead>\n",
       "  <tbody>\n",
       "    <tr>\n",
       "      <th>65</th>\n",
       "      <td>phon_R01_S17_6</td>\n",
       "      <td>228.969</td>\n",
       "      <td>239.541</td>\n",
       "      <td>113.201</td>\n",
       "      <td>0.00238</td>\n",
       "      <td>0.00001</td>\n",
       "      <td>0.00136</td>\n",
       "      <td>0.00140</td>\n",
       "      <td>0.00408</td>\n",
       "      <td>0.01745</td>\n",
       "      <td>...</td>\n",
       "      <td>0.02827</td>\n",
       "      <td>0.00420</td>\n",
       "      <td>24.547</td>\n",
       "      <td>0</td>\n",
       "      <td>0.305429</td>\n",
       "      <td>0.681811</td>\n",
       "      <td>-7.314237</td>\n",
       "      <td>0.006274</td>\n",
       "      <td>2.118596</td>\n",
       "      <td>0.091546</td>\n",
       "    </tr>\n",
       "    <tr>\n",
       "      <th>152</th>\n",
       "      <td>phon_R01_S35_7</td>\n",
       "      <td>198.116</td>\n",
       "      <td>233.099</td>\n",
       "      <td>174.478</td>\n",
       "      <td>0.02714</td>\n",
       "      <td>0.00014</td>\n",
       "      <td>0.01568</td>\n",
       "      <td>0.01699</td>\n",
       "      <td>0.04705</td>\n",
       "      <td>0.08684</td>\n",
       "      <td>...</td>\n",
       "      <td>0.12851</td>\n",
       "      <td>0.16265</td>\n",
       "      <td>9.449</td>\n",
       "      <td>1</td>\n",
       "      <td>0.584164</td>\n",
       "      <td>0.754449</td>\n",
       "      <td>-2.839756</td>\n",
       "      <td>0.356224</td>\n",
       "      <td>3.184027</td>\n",
       "      <td>0.454721</td>\n",
       "    </tr>\n",
       "    <tr>\n",
       "      <th>15</th>\n",
       "      <td>phon_R01_S04_4</td>\n",
       "      <td>142.167</td>\n",
       "      <td>217.455</td>\n",
       "      <td>83.159</td>\n",
       "      <td>0.00369</td>\n",
       "      <td>0.00003</td>\n",
       "      <td>0.00157</td>\n",
       "      <td>0.00203</td>\n",
       "      <td>0.00471</td>\n",
       "      <td>0.01503</td>\n",
       "      <td>...</td>\n",
       "      <td>0.02316</td>\n",
       "      <td>0.00839</td>\n",
       "      <td>25.175</td>\n",
       "      <td>1</td>\n",
       "      <td>0.565924</td>\n",
       "      <td>0.658245</td>\n",
       "      <td>-5.340115</td>\n",
       "      <td>0.210185</td>\n",
       "      <td>2.205546</td>\n",
       "      <td>0.234589</td>\n",
       "    </tr>\n",
       "    <tr>\n",
       "      <th>151</th>\n",
       "      <td>phon_R01_S35_6</td>\n",
       "      <td>192.818</td>\n",
       "      <td>224.429</td>\n",
       "      <td>168.793</td>\n",
       "      <td>0.03107</td>\n",
       "      <td>0.00016</td>\n",
       "      <td>0.01800</td>\n",
       "      <td>0.01958</td>\n",
       "      <td>0.05401</td>\n",
       "      <td>0.11908</td>\n",
       "      <td>...</td>\n",
       "      <td>0.16942</td>\n",
       "      <td>0.21713</td>\n",
       "      <td>8.441</td>\n",
       "      <td>1</td>\n",
       "      <td>0.625866</td>\n",
       "      <td>0.768320</td>\n",
       "      <td>-2.434031</td>\n",
       "      <td>0.450493</td>\n",
       "      <td>3.079221</td>\n",
       "      <td>0.527367</td>\n",
       "    </tr>\n",
       "    <tr>\n",
       "      <th>133</th>\n",
       "      <td>phon_R01_S32_6</td>\n",
       "      <td>118.747</td>\n",
       "      <td>123.723</td>\n",
       "      <td>109.836</td>\n",
       "      <td>0.00331</td>\n",
       "      <td>0.00003</td>\n",
       "      <td>0.00168</td>\n",
       "      <td>0.00171</td>\n",
       "      <td>0.00504</td>\n",
       "      <td>0.01043</td>\n",
       "      <td>...</td>\n",
       "      <td>0.01471</td>\n",
       "      <td>0.00504</td>\n",
       "      <td>25.619</td>\n",
       "      <td>1</td>\n",
       "      <td>0.482296</td>\n",
       "      <td>0.723096</td>\n",
       "      <td>-6.448134</td>\n",
       "      <td>0.178713</td>\n",
       "      <td>2.034827</td>\n",
       "      <td>0.141422</td>\n",
       "    </tr>\n",
       "  </tbody>\n",
       "</table>\n",
       "<p>5 rows × 24 columns</p>\n",
       "</div>"
      ],
      "text/plain": [
       "               name  MDVP:Fo(Hz)  MDVP:Fhi(Hz)  MDVP:Flo(Hz)  MDVP:Jitter(%)  \\\n",
       "65   phon_R01_S17_6      228.969       239.541       113.201         0.00238   \n",
       "152  phon_R01_S35_7      198.116       233.099       174.478         0.02714   \n",
       "15   phon_R01_S04_4      142.167       217.455        83.159         0.00369   \n",
       "151  phon_R01_S35_6      192.818       224.429       168.793         0.03107   \n",
       "133  phon_R01_S32_6      118.747       123.723       109.836         0.00331   \n",
       "\n",
       "     MDVP:Jitter(Abs)  MDVP:RAP  MDVP:PPQ  Jitter:DDP  MDVP:Shimmer  ...  \\\n",
       "65            0.00001   0.00136   0.00140     0.00408       0.01745  ...   \n",
       "152           0.00014   0.01568   0.01699     0.04705       0.08684  ...   \n",
       "15            0.00003   0.00157   0.00203     0.00471       0.01503  ...   \n",
       "151           0.00016   0.01800   0.01958     0.05401       0.11908  ...   \n",
       "133           0.00003   0.00168   0.00171     0.00504       0.01043  ...   \n",
       "\n",
       "     Shimmer:DDA      NHR     HNR  status      RPDE       DFA   spread1  \\\n",
       "65       0.02827  0.00420  24.547       0  0.305429  0.681811 -7.314237   \n",
       "152      0.12851  0.16265   9.449       1  0.584164  0.754449 -2.839756   \n",
       "15       0.02316  0.00839  25.175       1  0.565924  0.658245 -5.340115   \n",
       "151      0.16942  0.21713   8.441       1  0.625866  0.768320 -2.434031   \n",
       "133      0.01471  0.00504  25.619       1  0.482296  0.723096 -6.448134   \n",
       "\n",
       "      spread2        D2       PPE  \n",
       "65   0.006274  2.118596  0.091546  \n",
       "152  0.356224  3.184027  0.454721  \n",
       "15   0.210185  2.205546  0.234589  \n",
       "151  0.450493  3.079221  0.527367  \n",
       "133  0.178713  2.034827  0.141422  \n",
       "\n",
       "[5 rows x 24 columns]"
      ]
     },
     "execution_count": 5,
     "metadata": {},
     "output_type": "execute_result"
    }
   ],
   "source": [
    "parkinsons_data.sample(5)"
   ]
  },
  {
   "cell_type": "code",
   "execution_count": 6,
   "id": "08ce6673",
   "metadata": {},
   "outputs": [],
   "source": [
    "# Label: 'status'"
   ]
  },
  {
   "cell_type": "code",
   "execution_count": 7,
   "id": "b11546a7",
   "metadata": {},
   "outputs": [
    {
     "data": {
      "text/plain": [
       "1    147\n",
       "0     48\n",
       "Name: status, dtype: int64"
      ]
     },
     "execution_count": 7,
     "metadata": {},
     "output_type": "execute_result"
    }
   ],
   "source": [
    "parkinsons_data['status'].value_counts()"
   ]
  },
  {
   "cell_type": "code",
   "execution_count": 9,
   "id": "244c6cfa",
   "metadata": {},
   "outputs": [
    {
     "data": {
      "image/png": "[encoded data removed]",
      "text/plain": [
       "<Figure size 640x480 with 1 Axes>"
      ]
     },
     "metadata": {},
     "output_type": "display_data"
    }
   ],
   "source": [
    "sns.countplot(x='status', data=parkinsons_data)\n",
    "plt.show()"
   ]
  },
  {
   "cell_type": "markdown",
   "id": "85fe7700",
   "metadata": {},
   "source": [
    "## Splitting the features and the label"
   ]
  },
  {
   "cell_type": "code",
   "execution_count": 12,
   "id": "a63bb06a",
   "metadata": {},
   "outputs": [],
   "source": [
    "X = parkinsons_data.drop(columns=['status', 'name'])\n",
    "y = parkinsons_data['status']"
   ]
  },
  {
   "cell_type": "markdown",
   "id": "d4d0619d",
   "metadata": {},
   "source": [
    "## Splitting the data into training set and test set"
   ]
  },
  {
   "cell_type": "code",
   "execution_count": 15,
   "id": "bd7d3bb5",
   "metadata": {},
   "outputs": [],
   "source": [
    "X_train, X_test, y_train, y_test = train_test_split(X, y, test_size=0.2, random_state=0, stratify=y)"
   ]
  },
  {
   "cell_type": "markdown",
   "id": "7e797b09",
   "metadata": {},
   "source": [
    "## Feature Scaling the tarining and test set"
   ]
  },
  {
   "cell_type": "code",
   "execution_count": 22,
   "id": "8b7900b0",
   "metadata": {},
   "outputs": [],
   "source": [
    "scaler = MinMaxScaler()\n",
    "X_train = scaler.fit_transform(X_train)\n",
    "X_test = scaler.transform(X_test)"
   ]
  },
  {
   "cell_type": "markdown",
   "id": "965a1a13",
   "metadata": {},
   "source": [
    "## Building the neural network"
   ]
  },
  {
   "cell_type": "code",
   "execution_count": 17,
   "id": "a68bd954",
   "metadata": {},
   "outputs": [
    {
     "data": {
      "text/plain": [
       "(156, 22)"
      ]
     },
     "execution_count": 17,
     "metadata": {},
     "output_type": "execute_result"
    }
   ],
   "source": [
    "X_train.shape"
   ]
  },
  {
   "cell_type": "code",
   "execution_count": 18,
   "id": "192a6bc3",
   "metadata": {},
   "outputs": [],
   "source": [
    "model = Sequential()\n",
    "model.add(Dense(128, activation='relu', input_dim=X_train.shape[1]))\n",
    "model.add(Dense(64, activation='relu'))\n",
    "model.add(Dense(64, activation='relu'))\n",
    "model.add(Dense(1, activation='sigmoid'))"
   ]
  },
  {
   "cell_type": "code",
   "execution_count": 19,
   "id": "a02ef2b1",
   "metadata": {},
   "outputs": [],
   "source": [
    "model.compile(optimizer='adam', loss='binary_crossentropy', metrics=['accuracy'])"
   ]
  },
  {
   "cell_type": "code",
   "execution_count": 20,
   "id": "accbb50b",
   "metadata": {},
   "outputs": [
    {
     "name": "stdout",
     "output_type": "stream",
     "text": [
      "Model: \"sequential\"\n",
      "_________________________________________________________________\n",
      " Layer (type)                Output Shape              Param #   \n",
      "=================================================================\n",
      " dense (Dense)               (None, 128)               2944      \n",
      "                                                                 \n",
      " dense_1 (Dense)             (None, 64)                8256      \n",
      "                                                                 \n",
      " dense_2 (Dense)             (None, 64)                4160      \n",
      "                                                                 \n",
      " dense_3 (Dense)             (None, 1)                 65        \n",
      "                                                                 \n",
      "=================================================================\n",
      "Total params: 15,425\n",
      "Trainable params: 15,425\n",
      "Non-trainable params: 0\n",
      "_________________________________________________________________\n"
     ]
    }
   ],
   "source": [
    "model.summary()"
   ]
  },
  {
   "cell_type": "code",
   "execution_count": 23,
   "id": "a37f5ee3",
   "metadata": {},
   "outputs": [
    {
     "name": "stdout",
     "output_type": "stream",
     "text": [
      "Epoch 1/50\n",
      "5/5 [==============================] - 2s 8ms/step - loss: 0.6908 - accuracy: 0.5192\n",
      "Epoch 2/50\n",
      "5/5 [==============================] - 0s 6ms/step - loss: 0.6118 - accuracy: 0.7564\n",
      "Epoch 3/50\n",
      "5/5 [==============================] - 0s 7ms/step - loss: 0.5493 - accuracy: 0.7564\n",
      "Epoch 4/50\n",
      "5/5 [==============================] - 0s 6ms/step - loss: 0.4951 - accuracy: 0.7564\n",
      "Epoch 5/50\n",
      "5/5 [==============================] - 0s 6ms/step - loss: 0.4648 - accuracy: 0.7564\n",
      "Epoch 6/50\n",
      "5/5 [==============================] - 0s 4ms/step - loss: 0.4290 - accuracy: 0.7692\n",
      "Epoch 7/50\n",
      "5/5 [==============================] - 0s 6ms/step - loss: 0.4069 - accuracy: 0.8269\n",
      "Epoch 8/50\n",
      "5/5 [==============================] - 0s 7ms/step - loss: 0.3882 - accuracy: 0.8462\n",
      "Epoch 9/50\n",
      "5/5 [==============================] - 0s 6ms/step - loss: 0.3702 - accuracy: 0.8462\n",
      "Epoch 10/50\n",
      "5/5 [==============================] - 0s 11ms/step - loss: 0.3562 - accuracy: 0.8462\n",
      "Epoch 11/50\n",
      "5/5 [==============================] - 0s 6ms/step - loss: 0.3448 - accuracy: 0.8462\n",
      "Epoch 12/50\n",
      "5/5 [==============================] - 0s 6ms/step - loss: 0.3308 - accuracy: 0.8397\n",
      "Epoch 13/50\n",
      "5/5 [==============================] - 0s 4ms/step - loss: 0.3284 - accuracy: 0.8205\n",
      "Epoch 14/50\n",
      "5/5 [==============================] - 0s 6ms/step - loss: 0.3151 - accuracy: 0.8397\n",
      "Epoch 15/50\n",
      "5/5 [==============================] - 0s 6ms/step - loss: 0.3085 - accuracy: 0.8462\n",
      "Epoch 16/50\n",
      "5/5 [==============================] - 0s 6ms/step - loss: 0.2983 - accuracy: 0.8333\n",
      "Epoch 17/50\n",
      "5/5 [==============================] - 0s 6ms/step - loss: 0.2867 - accuracy: 0.8333\n",
      "Epoch 18/50\n",
      "5/5 [==============================] - 0s 6ms/step - loss: 0.2834 - accuracy: 0.8397\n",
      "Epoch 19/50\n",
      "5/5 [==============================] - 0s 6ms/step - loss: 0.2731 - accuracy: 0.8397\n",
      "Epoch 20/50\n",
      "5/5 [==============================] - 0s 8ms/step - loss: 0.2686 - accuracy: 0.8526\n",
      "Epoch 21/50\n",
      "5/5 [==============================] - 0s 7ms/step - loss: 0.2604 - accuracy: 0.8782\n",
      "Epoch 22/50\n",
      "5/5 [==============================] - 0s 8ms/step - loss: 0.2567 - accuracy: 0.8526\n",
      "Epoch 23/50\n",
      "5/5 [==============================] - 0s 6ms/step - loss: 0.2437 - accuracy: 0.8654\n",
      "Epoch 24/50\n",
      "5/5 [==============================] - 0s 7ms/step - loss: 0.2351 - accuracy: 0.8782\n",
      "Epoch 25/50\n",
      "5/5 [==============================] - 0s 6ms/step - loss: 0.2261 - accuracy: 0.8782\n",
      "Epoch 26/50\n",
      "5/5 [==============================] - 0s 6ms/step - loss: 0.2202 - accuracy: 0.8782\n",
      "Epoch 27/50\n",
      "5/5 [==============================] - 0s 7ms/step - loss: 0.2116 - accuracy: 0.9038\n",
      "Epoch 28/50\n",
      "5/5 [==============================] - 0s 5ms/step - loss: 0.2069 - accuracy: 0.8846\n",
      "Epoch 29/50\n",
      "5/5 [==============================] - 0s 6ms/step - loss: 0.1969 - accuracy: 0.8974\n",
      "Epoch 30/50\n",
      "5/5 [==============================] - 0s 6ms/step - loss: 0.1908 - accuracy: 0.9103\n",
      "Epoch 31/50\n",
      "5/5 [==============================] - 0s 5ms/step - loss: 0.1900 - accuracy: 0.9038\n",
      "Epoch 32/50\n",
      "5/5 [==============================] - 0s 5ms/step - loss: 0.1814 - accuracy: 0.9103\n",
      "Epoch 33/50\n",
      "5/5 [==============================] - 0s 5ms/step - loss: 0.1727 - accuracy: 0.9359\n",
      "Epoch 34/50\n",
      "5/5 [==============================] - 0s 5ms/step - loss: 0.1759 - accuracy: 0.9295\n",
      "Epoch 35/50\n",
      "5/5 [==============================] - 0s 4ms/step - loss: 0.1657 - accuracy: 0.9423\n",
      "Epoch 36/50\n",
      "5/5 [==============================] - 0s 7ms/step - loss: 0.1659 - accuracy: 0.9295\n",
      "Epoch 37/50\n",
      "5/5 [==============================] - 0s 5ms/step - loss: 0.1507 - accuracy: 0.9423\n",
      "Epoch 38/50\n",
      "5/5 [==============================] - 0s 6ms/step - loss: 0.1478 - accuracy: 0.9423\n",
      "Epoch 39/50\n",
      "5/5 [==============================] - 0s 6ms/step - loss: 0.1474 - accuracy: 0.9359\n",
      "Epoch 40/50\n",
      "5/5 [==============================] - 0s 6ms/step - loss: 0.1482 - accuracy: 0.9423\n",
      "Epoch 41/50\n",
      "5/5 [==============================] - 0s 6ms/step - loss: 0.1282 - accuracy: 0.9615\n",
      "Epoch 42/50\n",
      "5/5 [==============================] - 0s 6ms/step - loss: 0.1423 - accuracy: 0.9423\n",
      "Epoch 43/50\n",
      "5/5 [==============================] - 0s 5ms/step - loss: 0.1245 - accuracy: 0.9487\n",
      "Epoch 44/50\n",
      "5/5 [==============================] - 0s 7ms/step - loss: 0.1187 - accuracy: 0.9679\n",
      "Epoch 45/50\n",
      "5/5 [==============================] - 0s 7ms/step - loss: 0.1253 - accuracy: 0.9487\n",
      "Epoch 46/50\n",
      "5/5 [==============================] - 0s 6ms/step - loss: 0.1326 - accuracy: 0.9551\n",
      "Epoch 47/50\n",
      "5/5 [==============================] - 0s 6ms/step - loss: 0.1306 - accuracy: 0.9359\n",
      "Epoch 48/50\n",
      "5/5 [==============================] - 0s 7ms/step - loss: 0.1092 - accuracy: 0.9551\n",
      "Epoch 49/50\n",
      "5/5 [==============================] - 0s 6ms/step - loss: 0.1089 - accuracy: 0.9615\n",
      "Epoch 50/50\n",
      "5/5 [==============================] - 0s 7ms/step - loss: 0.1060 - accuracy: 0.9487\n"
     ]
    },
    {
     "data": {
      "text/plain": [
       "<keras.callbacks.History at 0x26ba82dec40>"
      ]
     },
     "execution_count": 23,
     "metadata": {},
     "output_type": "execute_result"
    }
   ],
   "source": [
    "model.fit(X_train, y_train, epochs=50, batch_size=32)"
   ]
  },
  {
   "cell_type": "code",
   "execution_count": 24,
   "id": "f42cbf1f",
   "metadata": {},
   "outputs": [
    {
     "name": "stdout",
     "output_type": "stream",
     "text": [
      "2/2 [==============================] - 0s 22ms/step - loss: 0.1272 - accuracy: 0.9487\n",
      "0.1271786391735077\n",
      "0.9487179517745972\n"
     ]
    }
   ],
   "source": [
    "loss, accuracy = model.evaluate(X_test, y_test)\n",
    "print(loss)\n",
    "print(accuracy)"
   ]
  },
  {
   "cell_type": "markdown",
   "id": "72a5f0fb",
   "metadata": {},
   "source": [
    "This neural network has performed has way above expectation, even with a small dataset."
   ]
  },
  {
   "cell_type": "code",
   "execution_count": null,
   "id": "197771ee",
   "metadata": {},
   "outputs": [],
   "source": []
  }
 ],
 "metadata": {
  "kernelspec": {
   "display_name": "Python 3 (ipykernel)",
   "language": "python",
   "name": "python3"
  },
  "language_info": {
   "codemirror_mode": {
    "name": "ipython",
    "version": 3
   },
   "file_extension": ".py",
   "mimetype": "text/x-python",
   "name": "python",
   "nbconvert_exporter": "python",
   "pygments_lexer": "ipython3",
   "version": "3.9.13"
  }
 },
 "nbformat": 4,
 "nbformat_minor": 5
}
