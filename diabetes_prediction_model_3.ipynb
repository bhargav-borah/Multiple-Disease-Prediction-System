{
 "cells": [
  {
   "cell_type": "markdown",
   "id": "8a54b866",
   "metadata": {},
   "source": [
    "# Diabetes Prediction Model 3 - Neural Network"
   ]
  },
  {
   "cell_type": "markdown",
   "id": "847c670c",
   "metadata": {},
   "source": [
    "## Import the dependencies"
   ]
  },
  {
   "cell_type": "code",
   "execution_count": 169,
   "id": "528034e7",
   "metadata": {},
   "outputs": [],
   "source": [
    "import numpy as np\n",
    "import pandas as pd\n",
    "import tensorflow as tf\n",
    "from tensorflow.keras.models import Sequential\n",
    "from tensorflow.keras.layers import Dense\n",
    "from sklearn.model_selection import train_test_split\n",
    "from sklearn.preprocessing import MinMaxScaler"
   ]
  },
  {
   "cell_type": "markdown",
   "id": "c741c7c0",
   "metadata": {},
   "source": [
    "## Loading the data"
   ]
  },
  {
   "cell_type": "code",
   "execution_count": 170,
   "id": "67362db9",
   "metadata": {},
   "outputs": [],
   "source": [
    "diabetes_data = pd.read_csv('diabetes.csv')"
   ]
  },
  {
   "cell_type": "code",
   "execution_count": 171,
   "id": "42226ffb",
   "metadata": {},
   "outputs": [
    {
     "data": {
      "text/plain": [
       "(768, 9)"
      ]
     },
     "execution_count": 171,
     "metadata": {},
     "output_type": "execute_result"
    }
   ],
   "source": [
    "diabetes_data.shape"
   ]
  },
  {
   "cell_type": "code",
   "execution_count": 172,
   "id": "00ff52c3",
   "metadata": {},
   "outputs": [
    {
     "data": {
      "text/html": [
       "<div>\n",
       "<style scoped>\n",
       "    .dataframe tbody tr th:only-of-type {\n",
       "        vertical-align: middle;\n",
       "    }\n",
       "\n",
       "    .dataframe tbody tr th {\n",
       "        vertical-align: top;\n",
       "    }\n",
       "\n",
       "    .dataframe thead th {\n",
       "        text-align: right;\n",
       "    }\n",
       "</style>\n",
       "<table border=\"1\" class=\"dataframe\">\n",
       "  <thead>\n",
       "    <tr style=\"text-align: right;\">\n",
       "      <th></th>\n",
       "      <th>Pregnancies</th>\n",
       "      <th>Glucose</th>\n",
       "      <th>BloodPressure</th>\n",
       "      <th>SkinThickness</th>\n",
       "      <th>Insulin</th>\n",
       "      <th>BMI</th>\n",
       "      <th>DiabetesPedigreeFunction</th>\n",
       "      <th>Age</th>\n",
       "      <th>Outcome</th>\n",
       "    </tr>\n",
       "  </thead>\n",
       "  <tbody>\n",
       "    <tr>\n",
       "      <th>736</th>\n",
       "      <td>0</td>\n",
       "      <td>126</td>\n",
       "      <td>86</td>\n",
       "      <td>27</td>\n",
       "      <td>120</td>\n",
       "      <td>27.4</td>\n",
       "      <td>0.515</td>\n",
       "      <td>21</td>\n",
       "      <td>0</td>\n",
       "    </tr>\n",
       "    <tr>\n",
       "      <th>21</th>\n",
       "      <td>8</td>\n",
       "      <td>99</td>\n",
       "      <td>84</td>\n",
       "      <td>0</td>\n",
       "      <td>0</td>\n",
       "      <td>35.4</td>\n",
       "      <td>0.388</td>\n",
       "      <td>50</td>\n",
       "      <td>0</td>\n",
       "    </tr>\n",
       "    <tr>\n",
       "      <th>648</th>\n",
       "      <td>11</td>\n",
       "      <td>136</td>\n",
       "      <td>84</td>\n",
       "      <td>35</td>\n",
       "      <td>130</td>\n",
       "      <td>28.3</td>\n",
       "      <td>0.260</td>\n",
       "      <td>42</td>\n",
       "      <td>1</td>\n",
       "    </tr>\n",
       "    <tr>\n",
       "      <th>453</th>\n",
       "      <td>2</td>\n",
       "      <td>119</td>\n",
       "      <td>0</td>\n",
       "      <td>0</td>\n",
       "      <td>0</td>\n",
       "      <td>19.6</td>\n",
       "      <td>0.832</td>\n",
       "      <td>72</td>\n",
       "      <td>0</td>\n",
       "    </tr>\n",
       "    <tr>\n",
       "      <th>318</th>\n",
       "      <td>3</td>\n",
       "      <td>115</td>\n",
       "      <td>66</td>\n",
       "      <td>39</td>\n",
       "      <td>140</td>\n",
       "      <td>38.1</td>\n",
       "      <td>0.150</td>\n",
       "      <td>28</td>\n",
       "      <td>0</td>\n",
       "    </tr>\n",
       "  </tbody>\n",
       "</table>\n",
       "</div>"
      ],
      "text/plain": [
       "     Pregnancies  Glucose  BloodPressure  SkinThickness  Insulin   BMI  \\\n",
       "736            0      126             86             27      120  27.4   \n",
       "21             8       99             84              0        0  35.4   \n",
       "648           11      136             84             35      130  28.3   \n",
       "453            2      119              0              0        0  19.6   \n",
       "318            3      115             66             39      140  38.1   \n",
       "\n",
       "     DiabetesPedigreeFunction  Age  Outcome  \n",
       "736                     0.515   21        0  \n",
       "21                      0.388   50        0  \n",
       "648                     0.260   42        1  \n",
       "453                     0.832   72        0  \n",
       "318                     0.150   28        0  "
      ]
     },
     "execution_count": 172,
     "metadata": {},
     "output_type": "execute_result"
    }
   ],
   "source": [
    "diabetes_data.sample(5)"
   ]
  },
  {
   "cell_type": "markdown",
   "id": "0f55e8e0",
   "metadata": {},
   "source": [
    "## Splitting the features and the label"
   ]
  },
  {
   "cell_type": "code",
   "execution_count": 173,
   "id": "6b64c2af",
   "metadata": {},
   "outputs": [],
   "source": [
    "X = diabetes_data.drop(columns=['Outcome'])\n",
    "y = diabetes_data['Outcome']"
   ]
  },
  {
   "cell_type": "markdown",
   "id": "c5877776",
   "metadata": {},
   "source": [
    "## Splitting the data into training set and test set"
   ]
  },
  {
   "cell_type": "code",
   "execution_count": 174,
   "id": "acd0e1c7",
   "metadata": {},
   "outputs": [],
   "source": [
    "X_train, X_test, y_train, y_test = train_test_split(X, y, test_size=0.2, random_state=2, stratify=y)"
   ]
  },
  {
   "cell_type": "markdown",
   "id": "a5fdb550",
   "metadata": {},
   "source": [
    "## Feature scaling the training and test sets"
   ]
  },
  {
   "cell_type": "code",
   "execution_count": 175,
   "id": "50ad0d0c",
   "metadata": {},
   "outputs": [],
   "source": [
    "scaler = MinMaxScaler()\n",
    "X_train = scaler.fit_transform(X_train)\n",
    "X_test = scaler.fit_transform(X_test)"
   ]
  },
  {
   "cell_type": "code",
   "execution_count": 176,
   "id": "67b48589",
   "metadata": {},
   "outputs": [
    {
     "data": {
      "text/plain": [
       "(614, 8)"
      ]
     },
     "execution_count": 176,
     "metadata": {},
     "output_type": "execute_result"
    }
   ],
   "source": [
    "X_train.shape"
   ]
  },
  {
   "cell_type": "markdown",
   "id": "754f1581",
   "metadata": {},
   "source": [
    "## Building the neural network"
   ]
  },
  {
   "cell_type": "code",
   "execution_count": 177,
   "id": "23a6d22c",
   "metadata": {},
   "outputs": [],
   "source": [
    "model = Sequential()\n",
    "model.add(Dense(128, activation='relu', input_dim=X_train.shape[1],))\n",
    "model.add(Dense(64, activation='relu'))\n",
    "model.add(Dense(64, activation='relu'))\n",
    "model.add(Dense(1, activation='sigmoid'))\n",
    "\n",
    "model.compile(optimizer='adam', loss='binary_crossentropy', metrics=['accuracy'])"
   ]
  },
  {
   "cell_type": "code",
   "execution_count": 178,
   "id": "b0df1b2a",
   "metadata": {},
   "outputs": [
    {
     "name": "stdout",
     "output_type": "stream",
     "text": [
      "Model: \"sequential_15\"\n",
      "_________________________________________________________________\n",
      " Layer (type)                Output Shape              Param #   \n",
      "=================================================================\n",
      " dense_41 (Dense)            (None, 128)               1152      \n",
      "                                                                 \n",
      " dense_42 (Dense)            (None, 64)                8256      \n",
      "                                                                 \n",
      " dense_43 (Dense)            (None, 64)                4160      \n",
      "                                                                 \n",
      " dense_44 (Dense)            (None, 1)                 65        \n",
      "                                                                 \n",
      "=================================================================\n",
      "Total params: 13,633\n",
      "Trainable params: 13,633\n",
      "Non-trainable params: 0\n",
      "_________________________________________________________________\n"
     ]
    }
   ],
   "source": [
    "model.summary()"
   ]
  },
  {
   "cell_type": "markdown",
   "id": "1f909835",
   "metadata": {},
   "source": [
    "## Training the neural network"
   ]
  },
  {
   "cell_type": "code",
   "execution_count": 179,
   "id": "753ac6d2",
   "metadata": {},
   "outputs": [
    {
     "name": "stdout",
     "output_type": "stream",
     "text": [
      "Epoch 1/62\n",
      "20/20 [==============================] - 1s 4ms/step - loss: 0.6714 - accuracy: 0.6238\n",
      "Epoch 2/62\n",
      "20/20 [==============================] - 0s 4ms/step - loss: 0.6491 - accuracy: 0.6515\n",
      "Epoch 3/62\n",
      "20/20 [==============================] - 0s 4ms/step - loss: 0.6269 - accuracy: 0.6515\n",
      "Epoch 4/62\n",
      "20/20 [==============================] - 0s 4ms/step - loss: 0.5960 - accuracy: 0.6792\n",
      "Epoch 5/62\n",
      "20/20 [==============================] - 0s 4ms/step - loss: 0.5656 - accuracy: 0.7117\n",
      "Epoch 6/62\n",
      "20/20 [==============================] - 0s 4ms/step - loss: 0.5413 - accuracy: 0.7231\n",
      "Epoch 7/62\n",
      "20/20 [==============================] - 0s 4ms/step - loss: 0.5166 - accuracy: 0.7313\n",
      "Epoch 8/62\n",
      "20/20 [==============================] - 0s 5ms/step - loss: 0.5020 - accuracy: 0.7557\n",
      "Epoch 9/62\n",
      "20/20 [==============================] - 0s 4ms/step - loss: 0.4988 - accuracy: 0.7443\n",
      "Epoch 10/62\n",
      "20/20 [==============================] - 0s 5ms/step - loss: 0.4846 - accuracy: 0.7622\n",
      "Epoch 11/62\n",
      "20/20 [==============================] - 0s 4ms/step - loss: 0.4729 - accuracy: 0.7606\n",
      "Epoch 12/62\n",
      "20/20 [==============================] - 0s 5ms/step - loss: 0.4568 - accuracy: 0.7736\n",
      "Epoch 13/62\n",
      "20/20 [==============================] - 0s 4ms/step - loss: 0.4436 - accuracy: 0.7883\n",
      "Epoch 14/62\n",
      "20/20 [==============================] - 0s 3ms/step - loss: 0.4461 - accuracy: 0.7932\n",
      "Epoch 15/62\n",
      "20/20 [==============================] - 0s 4ms/step - loss: 0.4485 - accuracy: 0.7785\n",
      "Epoch 16/62\n",
      "20/20 [==============================] - 0s 4ms/step - loss: 0.4411 - accuracy: 0.7899\n",
      "Epoch 17/62\n",
      "20/20 [==============================] - 0s 4ms/step - loss: 0.4549 - accuracy: 0.7850\n",
      "Epoch 18/62\n",
      "20/20 [==============================] - 0s 4ms/step - loss: 0.4341 - accuracy: 0.7915\n",
      "Epoch 19/62\n",
      "20/20 [==============================] - 0s 3ms/step - loss: 0.4335 - accuracy: 0.7850\n",
      "Epoch 20/62\n",
      "20/20 [==============================] - 0s 4ms/step - loss: 0.4353 - accuracy: 0.7818\n",
      "Epoch 21/62\n",
      "20/20 [==============================] - 0s 4ms/step - loss: 0.4253 - accuracy: 0.7948\n",
      "Epoch 22/62\n",
      "20/20 [==============================] - 0s 4ms/step - loss: 0.4176 - accuracy: 0.8013\n",
      "Epoch 23/62\n",
      "20/20 [==============================] - 0s 4ms/step - loss: 0.4182 - accuracy: 0.8013\n",
      "Epoch 24/62\n",
      "20/20 [==============================] - 0s 4ms/step - loss: 0.4282 - accuracy: 0.7964\n",
      "Epoch 25/62\n",
      "20/20 [==============================] - 0s 4ms/step - loss: 0.4345 - accuracy: 0.7818\n",
      "Epoch 26/62\n",
      "20/20 [==============================] - 0s 4ms/step - loss: 0.4113 - accuracy: 0.7948\n",
      "Epoch 27/62\n",
      "20/20 [==============================] - 0s 4ms/step - loss: 0.4128 - accuracy: 0.8046\n",
      "Epoch 28/62\n",
      "20/20 [==============================] - 0s 4ms/step - loss: 0.4129 - accuracy: 0.7980\n",
      "Epoch 29/62\n",
      "20/20 [==============================] - 0s 4ms/step - loss: 0.4121 - accuracy: 0.8094\n",
      "Epoch 30/62\n",
      "20/20 [==============================] - 0s 4ms/step - loss: 0.4173 - accuracy: 0.7964\n",
      "Epoch 31/62\n",
      "20/20 [==============================] - 0s 4ms/step - loss: 0.4071 - accuracy: 0.8094\n",
      "Epoch 32/62\n",
      "20/20 [==============================] - 0s 4ms/step - loss: 0.4058 - accuracy: 0.8094\n",
      "Epoch 33/62\n",
      "20/20 [==============================] - 0s 4ms/step - loss: 0.4081 - accuracy: 0.8046\n",
      "Epoch 34/62\n",
      "20/20 [==============================] - 0s 4ms/step - loss: 0.3989 - accuracy: 0.8094\n",
      "Epoch 35/62\n",
      "20/20 [==============================] - 0s 4ms/step - loss: 0.4015 - accuracy: 0.8029\n",
      "Epoch 36/62\n",
      "20/20 [==============================] - 0s 4ms/step - loss: 0.3962 - accuracy: 0.8160\n",
      "Epoch 37/62\n",
      "20/20 [==============================] - 0s 4ms/step - loss: 0.3959 - accuracy: 0.8176\n",
      "Epoch 38/62\n",
      "20/20 [==============================] - 0s 4ms/step - loss: 0.4133 - accuracy: 0.8160\n",
      "Epoch 39/62\n",
      "20/20 [==============================] - 0s 4ms/step - loss: 0.4136 - accuracy: 0.8078\n",
      "Epoch 40/62\n",
      "20/20 [==============================] - 0s 4ms/step - loss: 0.3982 - accuracy: 0.8127\n",
      "Epoch 41/62\n",
      "20/20 [==============================] - 0s 4ms/step - loss: 0.3850 - accuracy: 0.8192\n",
      "Epoch 42/62\n",
      "20/20 [==============================] - 0s 4ms/step - loss: 0.3945 - accuracy: 0.8111\n",
      "Epoch 43/62\n",
      "20/20 [==============================] - 0s 4ms/step - loss: 0.3957 - accuracy: 0.8143\n",
      "Epoch 44/62\n",
      "20/20 [==============================] - 0s 4ms/step - loss: 0.3895 - accuracy: 0.8176\n",
      "Epoch 45/62\n",
      "20/20 [==============================] - 0s 4ms/step - loss: 0.3888 - accuracy: 0.8192\n",
      "Epoch 46/62\n",
      "20/20 [==============================] - 0s 4ms/step - loss: 0.3979 - accuracy: 0.8062\n",
      "Epoch 47/62\n",
      "20/20 [==============================] - 0s 4ms/step - loss: 0.3956 - accuracy: 0.8046\n",
      "Epoch 48/62\n",
      "20/20 [==============================] - 0s 4ms/step - loss: 0.3824 - accuracy: 0.8192\n",
      "Epoch 49/62\n",
      "20/20 [==============================] - 0s 4ms/step - loss: 0.3796 - accuracy: 0.8078\n",
      "Epoch 50/62\n",
      "20/20 [==============================] - 0s 4ms/step - loss: 0.3750 - accuracy: 0.8306\n",
      "Epoch 51/62\n",
      "20/20 [==============================] - 0s 5ms/step - loss: 0.3817 - accuracy: 0.8225\n",
      "Epoch 52/62\n",
      "20/20 [==============================] - 0s 4ms/step - loss: 0.3701 - accuracy: 0.8322\n",
      "Epoch 53/62\n",
      "20/20 [==============================] - 0s 4ms/step - loss: 0.3852 - accuracy: 0.8127\n",
      "Epoch 54/62\n",
      "20/20 [==============================] - 0s 4ms/step - loss: 0.3940 - accuracy: 0.8306\n",
      "Epoch 55/62\n",
      "20/20 [==============================] - 0s 4ms/step - loss: 0.3736 - accuracy: 0.8306\n",
      "Epoch 56/62\n",
      "20/20 [==============================] - 0s 4ms/step - loss: 0.3720 - accuracy: 0.8322\n",
      "Epoch 57/62\n",
      "20/20 [==============================] - 0s 4ms/step - loss: 0.3636 - accuracy: 0.8225\n",
      "Epoch 58/62\n",
      "20/20 [==============================] - 0s 4ms/step - loss: 0.3634 - accuracy: 0.8355\n",
      "Epoch 59/62\n",
      "20/20 [==============================] - 0s 4ms/step - loss: 0.3640 - accuracy: 0.8388\n",
      "Epoch 60/62\n",
      "20/20 [==============================] - 0s 4ms/step - loss: 0.3676 - accuracy: 0.8420\n",
      "Epoch 61/62\n",
      "20/20 [==============================] - 0s 4ms/step - loss: 0.3660 - accuracy: 0.8322\n",
      "Epoch 62/62\n",
      "20/20 [==============================] - 0s 5ms/step - loss: 0.3665 - accuracy: 0.8208\n"
     ]
    },
    {
     "data": {
      "text/plain": [
       "<keras.callbacks.History at 0x1426ba50bb0>"
      ]
     },
     "execution_count": 179,
     "metadata": {},
     "output_type": "execute_result"
    }
   ],
   "source": [
    "model.fit(X_train, y_train, epochs=62, batch_size=32)"
   ]
  },
  {
   "cell_type": "code",
   "execution_count": 180,
   "id": "bedd8f86",
   "metadata": {},
   "outputs": [
    {
     "name": "stdout",
     "output_type": "stream",
     "text": [
      "5/5 [==============================] - 0s 3ms/step - loss: 0.6528 - accuracy: 0.7208\n"
     ]
    }
   ],
   "source": [
    "loss, accuracy = model.evaluate(X_test, y_test)"
   ]
  },
  {
   "cell_type": "code",
   "execution_count": 181,
   "id": "6b14cd9a",
   "metadata": {},
   "outputs": [
    {
     "name": "stdout",
     "output_type": "stream",
     "text": [
      "0.652846097946167\n",
      "0.7207792401313782\n"
     ]
    }
   ],
   "source": [
    "print(loss)\n",
    "print(accuracy)"
   ]
  },
  {
   "cell_type": "markdown",
   "id": "27b1a7e1",
   "metadata": {},
   "source": [
    "Nah, neural network didn't perform better than the rest. In fact, it was mediocre at best"
   ]
  },
  {
   "cell_type": "code",
   "execution_count": null,
   "id": "6b7f484a",
   "metadata": {},
   "outputs": [],
   "source": []
  }
 ],
 "metadata": {
  "kernelspec": {
   "display_name": "Python 3 (ipykernel)",
   "language": "python",
   "name": "python3"
  },
  "language_info": {
   "codemirror_mode": {
    "name": "ipython",
    "version": 3
   },
   "file_extension": ".py",
   "mimetype": "text/x-python",
   "name": "python",
   "nbconvert_exporter": "python",
   "pygments_lexer": "ipython3",
   "version": "3.9.13"
  }
 },
 "nbformat": 4,
 "nbformat_minor": 5
}
